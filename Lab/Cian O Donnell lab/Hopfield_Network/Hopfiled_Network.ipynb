{
 "cells": [
  {
   "cell_type": "code",
   "execution_count": null,
   "id": "c63e6ecd",
   "metadata": {},
   "outputs": [],
   "source": [
    "import numpy as np\n",
    "import matplotlib.pyplot as plt\n",
    "import random\n",
    "\n",
    "# initialise weight matrix\n",
    "num_neurons = 784\n",
    "W = np.zeros([num_neurons,num_neurons])\n",
    "\n",
    "# load data\n",
    "train_images=np.genfromtxt('train_images.csv',delimiter=',')\n",
    "test_images=np.genfromtxt('test_images.csv',delimiter=',')"
   ]
  },
  {
   "cell_type": "code",
   "execution_count": null,
   "id": "b5c4f148",
   "metadata": {},
   "outputs": [],
   "source": [
    "# train image 0  T-shirt\n",
    "x = np.copy(train_images[0])\n",
    "plt.imshow(np.reshape(x,(28,28)))\n",
    "plt.show()\n",
    "# train image 1  Dress\n",
    "x = np.copy(train_images[1])\n",
    "plt.imshow(np.reshape(x,(28,28)))\n",
    "plt.show()\n",
    "# train image 2   Shoes\n",
    "x = np.copy(train_images[2])\n",
    "plt.imshow(np.reshape(x,(28,28)))\n",
    "plt.show()"
   ]
  },
  {
   "cell_type": "code",
   "execution_count": null,
   "id": "ca28238a",
   "metadata": {},
   "outputs": [],
   "source": [
    "# set weights from training images\n",
    "for i in range(num_neurons):\n",
    "    for j in range(num_neurons):\n",
    "        for k in range(3):\n",
    "            W[i,j] += 0.33333*train_images[k][i]*train_images[k][j]\n",
    "for i in range(num_neurons):\n",
    "    W[i,i] = 0   "
   ]
  },
  {
   "cell_type": "code",
   "execution_count": null,
   "id": "dbfbbe0f",
   "metadata": {},
   "outputs": [],
   "source": [
    "# function for updating state asynchronously\n",
    "def updateState(x):\n",
    "    ind = random.choice(range(784))\n",
    "    total_input = np.sum(np.dot(W[ind,:],x))                               \n",
    "    if total_input>=0:\n",
    "        x[ind] = 1\n",
    "    else:\n",
    "        x[ind] = -1          \n",
    "    return x"
   ]
  },
  {
   "cell_type": "code",
   "execution_count": null,
   "id": "e61a6ffd",
   "metadata": {},
   "outputs": [],
   "source": [
    "# test image 0\n",
    "x = np.copy(test_images[0])\n",
    "plt.imshow(np.reshape(x,(28,28)))\n",
    "plt.show()\n",
    "for t in range(1000):\n",
    "    x = updateState(x)\n",
    "plt.imshow(np.reshape(x,(28,28)))\n",
    "plt.show()\n",
    "for t in range(2000):\n",
    "    x = updateState(x)\n",
    "plt.imshow(np.reshape(x,(28,28)))\n",
    "plt.show()"
   ]
  },
  {
   "cell_type": "code",
   "execution_count": null,
   "id": "85c04358",
   "metadata": {},
   "outputs": [],
   "source": [
    "# test image 1\n",
    "x = np.copy(test_images[1])\n",
    "plt.imshow(np.reshape(x,(28,28)))\n",
    "plt.show()\n",
    "for t in range(1000):\n",
    "    x = updateState(x)\n",
    "plt.imshow(np.reshape(x,(28,28)))\n",
    "plt.show()\n",
    "for t in range(2000):\n",
    "    x = updateState(x)\n",
    "plt.imshow(np.reshape(x,(28,28)))\n",
    "plt.show()"
   ]
  },
  {
   "cell_type": "code",
   "execution_count": null,
   "id": "6c111f40",
   "metadata": {},
   "outputs": [],
   "source": []
  },
  {
   "cell_type": "code",
   "execution_count": null,
   "id": "3da80966",
   "metadata": {},
   "outputs": [],
   "source": []
  },
  {
   "cell_type": "code",
   "execution_count": null,
   "id": "7a8547f8",
   "metadata": {},
   "outputs": [],
   "source": []
  },
  {
   "cell_type": "code",
   "execution_count": null,
   "id": "1f2ee2d3",
   "metadata": {},
   "outputs": [],
   "source": []
  }
 ],
 "metadata": {
  "kernelspec": {
   "display_name": "Python 3 (ipykernel)",
   "language": "python",
   "name": "python3"
  },
  "language_info": {
   "codemirror_mode": {
    "name": "ipython",
    "version": 3
   },
   "file_extension": ".py",
   "mimetype": "text/x-python",
   "name": "python",
   "nbconvert_exporter": "python",
   "pygments_lexer": "ipython3",
   "version": "3.9.7"
  }
 },
 "nbformat": 4,
 "nbformat_minor": 5
}
